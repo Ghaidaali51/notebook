{
 "cells": [
  {
   "cell_type": "code",
   "execution_count": 1,
   "id": "b13c2d66",
   "metadata": {},
   "outputs": [],
   "source": [
    "import os\n",
    "# APP_FOLDER = 'data'\n",
    "# for base, dirs, files in os.walk(APP_FOLDER):\n",
    "#     print('Searching in : ',base)\n",
    "#     for directories in dirs:\n",
    "#         totalDir += 1\n",
    "#     for Files in files:\n",
    "#         totalFiles += 1"
   ]
  },
  {
   "cell_type": "code",
   "execution_count": 2,
   "id": "af25d983",
   "metadata": {},
   "outputs": [],
   "source": [
    "import cv2\n",
    "import sys \n",
    "import os\n",
    "import random \n",
    "\n",
    "def img_to_face(img, save_path='data', camera_ip=\"0.0.0.0\"):\n",
    "    r_int = random.randint(1000,9999)\n",
    "    camera_folder = os.path.join(save_path, camera_ip)\n",
    "    org_img = os.path.join(save_path, camera_ip, f\"{r_int}.jpg\")\n",
    "    \n",
    "    face_cascade = cv2.CascadeClassifier('haarcascade_frontalface_default.xml')\n",
    "    img = cv2.imread(img)\n",
    "    gray = cv2.cvtColor(img, cv2.COLOR_BGR2GRAY)\n",
    "    faces = face_cascade.detectMultiScale(\n",
    "    gray,\n",
    "    scaleFactor=1.3,\n",
    "    minNeighbors=3,\n",
    "    minSize=(30, 30)\n",
    "    )\n",
    "\n",
    "    if not os.path.exists(camera_folder): \n",
    "        os.makedirs(camera_folder)\n",
    "    \n",
    "    if len(faces) < 0: # no face detected\n",
    "        return False, 'not important', 'not important'\n",
    "    \n",
    "    face_paths = []\n",
    "    for (x, y, w, h) in faces:\n",
    "        face_path = os.path.join(save_path, camera_ip, f\"{h+w}{r_int}.jpg\")\n",
    "        cv2.rectangle(img, (x, y), (x+w, y+h), None, 2)\n",
    "        roi_color = img[y:y + h, x:x + w]\n",
    "        cv2.imwrite(face_path, roi_color)\n",
    "        face_paths.append(face_path)\n",
    "    cv2.imwrite(org_img, img)\n",
    "\n",
    "    return True, org_img, face_paths\n",
    "    "
   ]
  },
  {
   "cell_type": "code",
   "execution_count": 3,
   "id": "eeec2a46",
   "metadata": {},
   "outputs": [],
   "source": [
    "import shutil\n",
    "def clean_data(org_folder, new_folder):\n",
    "    \"\"\" Turn sub folders with images into, sub folders with images that has only faces\"\"\"\n",
    "    people = os.listdir(org_folder)\n",
    "    for sub_folder in people:\n",
    "        person_old_folder = os.path.join(org_folder, sub_folder)\n",
    "        person_new_folder = os.path.join(new_folder, sub_folder) \n",
    "        files = os.listdir(person_old_folder)\n",
    "        if len(files) > 5:\n",
    "            if not os.path.isdir(person_new_folder):\n",
    "                os.mkdir(person_new_folder)\n",
    "            for file in files:\n",
    "                old_file_path = os.path.join(org_folder, sub_folder, file)\n",
    "                new_file_path = os.path.join(new_folder, sub_folder, file)\n",
    "                _, _, faces = img_to_face(old_file_path)\n",
    "                for face in faces:\n",
    "                    # copyfile( original, target)\n",
    "                    shutil.copyfile(face, new_file_path)"
   ]
  },
  {
   "cell_type": "code",
   "execution_count": null,
   "id": "9fa6c2bb",
   "metadata": {},
   "outputs": [],
   "source": [
    "clean_data('org_data','data')"
   ]
  },
  {
   "cell_type": "code",
   "execution_count": null,
   "id": "2c7049db",
   "metadata": {},
   "outputs": [],
   "source": []
  },
  {
   "cell_type": "code",
   "execution_count": 4,
   "id": "e4b45c4c",
   "metadata": {
    "scrolled": true
   },
   "outputs": [
    {
     "name": "stdout",
     "output_type": "stream",
     "text": [
      "Cannot open RTSP stream\n"
     ]
    },
    {
     "ename": "error",
     "evalue": "OpenCV(4.5.5) D:\\a\\opencv-python\\opencv-python\\opencv\\modules\\imgproc\\src\\color.cpp:182: error: (-215:Assertion failed) !_src.empty() in function 'cv::cvtColor'\n",
     "output_type": "error",
     "traceback": [
      "\u001b[1;31m---------------------------------------------------------------------------\u001b[0m",
      "\u001b[1;31merror\u001b[0m                                     Traceback (most recent call last)",
      "Input \u001b[1;32mIn [4]\u001b[0m, in \u001b[0;36m<module>\u001b[1;34m\u001b[0m\n\u001b[0;32m     14\u001b[0m \u001b[38;5;28;01mwhile\u001b[39;00m \u001b[38;5;28;01mTrue\u001b[39;00m:\n\u001b[0;32m     15\u001b[0m     _, frame \u001b[38;5;241m=\u001b[39m cap\u001b[38;5;241m.\u001b[39mread()\n\u001b[1;32m---> 16\u001b[0m     \u001b[43mcv2\u001b[49m\u001b[38;5;241;43m.\u001b[39;49m\u001b[43mimshow\u001b[49m\u001b[43m(\u001b[49m\u001b[38;5;124;43m'\u001b[39;49m\u001b[38;5;124;43mRTSP stream\u001b[39;49m\u001b[38;5;124;43m'\u001b[39;49m\u001b[43m,\u001b[49m\u001b[43m \u001b[49m\u001b[43mframe\u001b[49m\u001b[43m)\u001b[49m\n\u001b[0;32m     18\u001b[0m     \u001b[38;5;28;01mif\u001b[39;00m cv2\u001b[38;5;241m.\u001b[39mwaitKey(\u001b[38;5;241m1\u001b[39m) \u001b[38;5;241m==\u001b[39m \u001b[38;5;241m27\u001b[39m:\n\u001b[0;32m     19\u001b[0m         \u001b[38;5;28;01mbreak\u001b[39;00m\n",
      "\u001b[1;31merror\u001b[0m: OpenCV(4.5.5) D:\\a\\opencv-python\\opencv-python\\opencv\\modules\\imgproc\\src\\color.cpp:182: error: (-215:Assertion failed) !_src.empty() in function 'cv::cvtColor'\n"
     ]
    }
   ],
   "source": [
    "import cv2\n",
    "import os\n",
    " \n",
    "CAM_URL = \"http://admin:admin@<ip-address>/videofeed\"\n",
    " \n",
    "os.environ['OPENCV_FFMPEG_CAPTURE_OPTIONS'] = 'rtsp_transport;udp'\n",
    " \n",
    "cap = cv2.VideoCapture(CAM_URL, cv2.CAP_FFMPEG)\n",
    " \n",
    "if not cap.isOpened():\n",
    "    print('Cannot open RTSP stream')\n",
    "    exit(-1)\n",
    " \n",
    "\n",
    "_, frame = cap.read()\n",
    "cv2.save('frame.jpg', frame)\n",
    "\n",
    "if cv2.waitKey(1) == 27:\n",
    "    break\n",
    " \n",
    "cap.release()\n",
    "cv2.destroyAllWindows()"
   ]
  },
  {
   "cell_type": "code",
   "execution_count": null,
   "id": "f5bf3b77",
   "metadata": {},
   "outputs": [],
   "source": []
  }
 ],
 "metadata": {
  "kernelspec": {
   "display_name": "Python 3 (ipykernel)",
   "language": "python",
   "name": "python3"
  },
  "language_info": {
   "codemirror_mode": {
    "name": "ipython",
    "version": 3
   },
   "file_extension": ".py",
   "mimetype": "text/x-python",
   "name": "python",
   "nbconvert_exporter": "python",
   "pygments_lexer": "ipython3",
   "version": "3.9.8"
  }
 },
 "nbformat": 4,
 "nbformat_minor": 5
}
